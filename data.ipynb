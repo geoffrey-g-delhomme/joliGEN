{
 "cells": [
  {
   "cell_type": "code",
   "execution_count": 2,
   "metadata": {},
   "outputs": [],
   "source": [
    "from pathlib import Path\n",
    "import pickle\n",
    "from IPython.display import display\n",
    "import time\n",
    "import random\n",
    "import pandas as pd\n",
    "from collections import Counter, OrderedDict\n",
    "import numpy as np\n",
    "import matplotlib.pyplot as plt\n",
    "import os\n",
    "from datetime import datetime\n",
    "import copy\n",
    "from typing import Tuple, Dict, Union, Any, List\n",
    "from functools import partial\n",
    "from tqdm import tqdm\n",
    "import cv2\n",
    "import json\n",
    "from multiprocessing import Pool\n",
    "import yaml\n",
    "import shutil\n",
    "from collections import defaultdict"
   ]
  },
  {
   "cell_type": "markdown",
   "metadata": {},
   "source": [
    "**IMPORTANT**: The following parameters can be overwritten with `papermill` (please keep the `parameters` cell tag.)"
   ]
  },
  {
   "cell_type": "code",
   "execution_count": 3,
   "metadata": {
    "tags": [
     "parameters"
    ]
   },
   "outputs": [],
   "source": [
    "# Default parameters\n",
    "\n",
    "DATASET_NAME = \"synthetic2real_day\"\n",
    "DATASET_SOURCE = \"2023_12\" # 2023_Q3, 2023_Q4, 2023_12\n",
    "ATD_RANGE_M = [-300., -6000.] # Valid along track distance range for dev dataset\n",
    "TRAIN_RATIO = 1 # 0.95\n",
    "IMAGE_SIZE = [1024, 750]  # Output W,H\n",
    "DATA_ROOT_DIRPATH = \"/mnt/data1/user_cache/geoffrey.g.delhomme/data\" # Main location to store datasets\n",
    "RUNWAY_HEADING_RANGE_DEG = 5\n",
    "MAX_ASPECT_RATIO = 1.5  # Maximum aspect ratio (W/H)\n",
    "MIN_AREA = 10  # Minimum aera (px) for a runway to be retained"
   ]
  },
  {
   "cell_type": "markdown",
   "metadata": {},
   "source": [
    "# Load pickles & extract dev data"
   ]
  },
  {
   "cell_type": "markdown",
   "metadata": {},
   "source": [
    "Define pickle filepaths:"
   ]
  },
  {
   "cell_type": "code",
   "execution_count": 4,
   "metadata": {},
   "outputs": [],
   "source": [
    "if DATASET_SOURCE == \"2023_Q3\":\n",
    "    PICKLE_FILEPATHS = [\n",
    "        \"/mnt/data1/ml_dev/data/AIP/aip_2023_Q3_delivery/2023-07-19/dataset/dev/dataset_dev.p\"\n",
    "    ]\n",
    "elif DATASET_SOURCE == \"2023_Q4\":\n",
    "    PICKLE_FILEPATHS = [\n",
    "        \"/mnt/data1/ml_dev/data/AIP/P2_VLA_v1_i1_f1/real_dev/dataset/dev/dataset_dev.p\",\n",
    "        \"/mnt/data1/ml_dev/data/AIP/P2_VLA_v1_i1_f1/sim_dev_q1/dataset/dev/dataset_dev.p\",\n",
    "        \"/mnt/data1/ml_dev/data/AIP/P2_VLA_v1_i1_f1/sim_dev_q2/dataset/dev/dataset_dev.p\",\n",
    "        \"/mnt/data1/ml_dev/data/AIP/P2_VLA_v1_i1_f1/sim_dev_q3/dataset/dev/dataset_dev.p\",\n",
    "    ]\n",
    "elif DATASET_SOURCE == \"2023_12\":\n",
    "    PICKLE_FILEPATHS = [\n",
    "        \"/mnt/data1/ml_dev/data/AIP/P2_VLA_v2_i1_f2/real/dataset/dev/dataset_dev.p\",\n",
    "        \"/mnt/data1/ml_dev/data/AIP/P2_VLA_v2_i1_f2/sim_q1_2023_trajectory/dataset/dev/dataset_dev.p\",\n",
    "        \"/mnt/data1/ml_dev/data/AIP/P2_VLA_v2_i1_f2/sim_q2_2023_disjoint/dataset/dev/dataset_dev.p\",\n",
    "        \"/mnt/data1/ml_dev/data/AIP/P2_VLA_v2_i1_f2/sim_q3_2023_disjoint/dataset/dev/dataset_dev.p\",\n",
    "    ]"
   ]
  },
  {
   "cell_type": "markdown",
   "metadata": {},
   "source": [
    "Load pickle files:"
   ]
  },
  {
   "cell_type": "code",
   "execution_count": 5,
   "metadata": {},
   "outputs": [
    {
     "name": "stdout",
     "output_type": "stream",
     "text": [
      "Loading /mnt/data1/ml_dev/data/AIP/P2_VLA_v2_i1_f2/real/dataset/dev/dataset_dev.p ...\n",
      "Elapsed: 82.22 s\n",
      "Loading /mnt/data1/ml_dev/data/AIP/P2_VLA_v2_i1_f2/sim_q1_2023_trajectory/dataset/dev/dataset_dev.p ...\n",
      "Elapsed: 31.13 s\n",
      "Loading /mnt/data1/ml_dev/data/AIP/P2_VLA_v2_i1_f2/sim_q2_2023_disjoint/dataset/dev/dataset_dev.p ...\n"
     ]
    }
   ],
   "source": [
    "dataset_raw = []\n",
    "\n",
    "for pickle_filepath in PICKLE_FILEPATHS:\n",
    "    print(f\"Loading {pickle_filepath} ...\")\n",
    "    tic = time.perf_counter()\n",
    "    with open(pickle_filepath, 'rb') as f:\n",
    "        dataset_raw.extend(pickle.load(f))\n",
    "    print(f\"Elapsed: {time.perf_counter() - tic:.2f} s\")\n",
    "\n",
    "print(f\"Number of raw samples: {len(dataset_raw)}\")"
   ]
  },
  {
   "cell_type": "markdown",
   "metadata": {},
   "source": [
    "Number of airports:"
   ]
  },
  {
   "cell_type": "code",
   "execution_count": 5,
   "metadata": {},
   "outputs": [
    {
     "name": "stdout",
     "output_type": "stream",
     "text": [
      "Number of airports in raw dataset: 777\n"
     ]
    }
   ],
   "source": [
    "airports = set([metadata[\"airport\"] for metadata in dataset_raw])\n",
    "print(f\"Number of airports in raw dataset: {len(airports)}\")"
   ]
  },
  {
   "cell_type": "markdown",
   "metadata": {},
   "source": [
    "Filter dev dataset samples:"
   ]
  },
  {
   "cell_type": "code",
   "execution_count": 6,
   "metadata": {},
   "outputs": [
    {
     "name": "stdout",
     "output_type": "stream",
     "text": [
      "Number of dev samples: 1480612 (64.87%)\n"
     ]
    }
   ],
   "source": [
    "def is_dev(metadata):\n",
    "    atd = metadata[\"labels\"][\"runways\"][0][\"aircraft_rel_position\"][\"along_track_offset_m\"]\n",
    "    return not metadata[\"is_night\"] and atd >= ATD_RANGE_M[1] and atd <= ATD_RANGE_M[0]\n",
    "\n",
    "dataset_dev = list(filter(is_dev, dataset_raw))\n",
    "\n",
    "print(f\"Number of dev samples: {len(dataset_dev)} ({100.*len(dataset_dev)/len(dataset_raw):.2f}%)\")"
   ]
  },
  {
   "cell_type": "code",
   "execution_count": 7,
   "metadata": {},
   "outputs": [
    {
     "name": "stdout",
     "output_type": "stream",
     "text": [
      "Number of airports in dev dataset: 777\n"
     ]
    }
   ],
   "source": [
    "airports = set([metadata[\"airport\"] for metadata in dataset_dev])\n",
    "print(f\"Number of airports in dev dataset: {len(airports)}\")"
   ]
  },
  {
   "cell_type": "markdown",
   "metadata": {},
   "source": [
    "Print metadata sample:"
   ]
  },
  {
   "cell_type": "code",
   "execution_count": 8,
   "metadata": {},
   "outputs": [
    {
     "data": {
      "text/plain": [
       "{'image_path': '/mnt/data1/sim/datasets/aip/delivery_2023_q2/disjoint/v1.0/URKA_04_A_1/images/000/0000077.jpeg',\n",
       " 'flight_test': 'sim_aip_q2_2023_disjoint_dev_58',\n",
       " 'recording_seq_id': 18,\n",
       " 'src_metadata': {'image_source': 'xplane-12',\n",
       "  'is_trajectory': False,\n",
       "  'ellipsoid_model': 'WGS84',\n",
       "  'altitude_reference': 'MSL',\n",
       "  'gravitational_model': 'EGM96-5',\n",
       "  'trajectory_real_twin': ''},\n",
       " 'is_synthetic': True,\n",
       " 'is_night': False,\n",
       " 'airport': 'URKA',\n",
       " 'active_runway': '04',\n",
       " 'labels': {'runways': [{'id': '22',\n",
       "    'icao': 'URKA',\n",
       "    'is_active_runway': False,\n",
       "    'runway': {'top_left': {'x_px': 1251.3808291581167,\n",
       "      'y_px': 1265.2763620015114,\n",
       "      'lat_deg': 44.993709569693145,\n",
       "      'lon_deg': 37.3367813540148,\n",
       "      'alt_m': 39.081034671515226},\n",
       "     'top_right': {'x_px': 1191.1016456779475,\n",
       "      'y_px': 1233.147954021367,\n",
       "      'lat_deg': 44.9939644299654,\n",
       "      'lon_deg': 37.3363870451088,\n",
       "      'alt_m': 38.99803467001766},\n",
       "     'bottom_left': {'x_px': 1711.0961889395169,\n",
       "      'y_px': 1332.03905125478,\n",
       "      'lat_deg': 45.010264433796905,\n",
       "      'lon_deg': 37.35804236298153,\n",
       "      'alt_m': 49.98103467095643},\n",
       "     'bottom_right': {'x_px': 1672.5267669329069,\n",
       "      'y_px': 1311.5347970812782,\n",
       "      'lat_deg': 45.01051936586152,\n",
       "      'lon_deg': 37.35764803614147,\n",
       "      'alt_m': 49.90403467044234},\n",
       "     'left_edge': {'start_x': 1711.0961889395169,\n",
       "      'start_y': 1332.03905125478,\n",
       "      'stop_x': 1251.3808291581167,\n",
       "      'stop_y': 1265.2763620015114},\n",
       "     'right_edge': {'start_x': 1191.1016456779475,\n",
       "      'start_y': 1233.147954021367,\n",
       "      'stop_x': 1672.5267669329069,\n",
       "      'stop_y': 1311.5347970812782},\n",
       "     'top_edge': {'start_x': 1251.3808291581167,\n",
       "      'start_y': 1265.2763620015114,\n",
       "      'stop_x': 1191.1016456779475,\n",
       "      'stop_y': 1233.147954021367},\n",
       "     'bottom_edge': {'start_x': 1672.5267669329069,\n",
       "      'start_y': 1311.5347970812782,\n",
       "      'stop_x': 1711.0961889395169,\n",
       "      'stop_y': 1332.03905125478},\n",
       "     'region': {'points': [[1251.3808291581167, 1265.2763620015114],\n",
       "       [1711.0961889395169, 1332.03905125478],\n",
       "       [1672.5267669329069, 1311.5347970812782],\n",
       "       [1191.1016456779475, 1233.147954021367],\n",
       "       [1251.3808291581167, 1265.2763620015114]]}},\n",
       "    'aircraft_rel_position': {'along_track_offset_m': -4322.501771900213,\n",
       "     'lateral_offset_m': -755.4520514268645,\n",
       "     'vertical_offset_m': 245.59475673059436,\n",
       "     'slant_dist_m': 4394.88863961524,\n",
       "     'lpath_deg': -5.850614877432473,\n",
       "     'vpath_deg': 2.9983816638859366},\n",
       "    'pose_id': 2279360,\n",
       "    'calibration_id': 2,\n",
       "    'label_origin': 'base',\n",
       "    'is_visible': True,\n",
       "    'centerline': {'top': {'x_px': 1221.213083583666,\n",
       "      'y_px': 1249.2462496698392,\n",
       "      'lat_deg': 44.993837,\n",
       "      'lon_deg': 37.3365842,\n",
       "      'alt_m': 39.013},\n",
       "     'bottom': {'x_px': 1691.8114000776584,\n",
       "      'y_px': 1321.7792070064738,\n",
       "      'lat_deg': 45.0103919,\n",
       "      'lon_deg': 37.3578452,\n",
       "      'alt_m': 49.949},\n",
       "     'edge': {'start_x': 1691.8114000776584,\n",
       "      'start_y': 1321.7792070064738,\n",
       "      'stop_x': 1221.213083583666,\n",
       "      'stop_y': 1249.2462496698392}}},\n",
       "   {'id': '04',\n",
       "    'icao': 'URKA',\n",
       "    'is_active_runway': True,\n",
       "    'runway': {'top_left': {'x_px': 1672.5267669329069,\n",
       "      'y_px': 1311.5347970812782,\n",
       "      'lat_deg': 45.01051936586152,\n",
       "      'lon_deg': 37.35764803614147,\n",
       "      'alt_m': 49.90403467044234},\n",
       "     'top_right': {'x_px': 1711.0961889395169,\n",
       "      'y_px': 1332.03905125478,\n",
       "      'lat_deg': 45.010264433796905,\n",
       "      'lon_deg': 37.35804236298153,\n",
       "      'alt_m': 49.98103467095643},\n",
       "     'bottom_left': {'x_px': 1191.1016456779475,\n",
       "      'y_px': 1233.147954021367,\n",
       "      'lat_deg': 44.9939644299654,\n",
       "      'lon_deg': 37.3363870451088,\n",
       "      'alt_m': 38.99803467001766},\n",
       "     'bottom_right': {'x_px': 1251.3808291581167,\n",
       "      'y_px': 1265.2763620015114,\n",
       "      'lat_deg': 44.993709569693145,\n",
       "      'lon_deg': 37.3367813540148,\n",
       "      'alt_m': 39.081034671515226},\n",
       "     'left_edge': {'start_x': 1191.1016456779475,\n",
       "      'start_y': 1233.147954021367,\n",
       "      'stop_x': 1672.5267669329069,\n",
       "      'stop_y': 1311.5347970812782},\n",
       "     'right_edge': {'start_x': 1711.0961889395169,\n",
       "      'start_y': 1332.03905125478,\n",
       "      'stop_x': 1251.3808291581167,\n",
       "      'stop_y': 1265.2763620015114},\n",
       "     'top_edge': {'start_x': 1672.5267669329069,\n",
       "      'start_y': 1311.5347970812782,\n",
       "      'stop_x': 1711.0961889395169,\n",
       "      'stop_y': 1332.03905125478},\n",
       "     'bottom_edge': {'start_x': 1251.3808291581167,\n",
       "      'start_y': 1265.2763620015114,\n",
       "      'stop_x': 1191.1016456779475,\n",
       "      'stop_y': 1233.147954021367},\n",
       "     'region': {'points': [[1672.5267669329069, 1311.5347970812782],\n",
       "       [1191.1016456779475, 1233.147954021367],\n",
       "       [1251.3808291581167, 1265.2763620015114],\n",
       "       [1711.0961889395169, 1332.03905125478],\n",
       "       [1672.5267669329069, 1311.5347970812782]]}},\n",
       "    'aircraft_rel_position': {'along_track_offset_m': -4322.501771900213,\n",
       "     'lateral_offset_m': -755.4520514268645,\n",
       "     'vertical_offset_m': 245.59475673059436,\n",
       "     'slant_dist_m': 4394.88863961524,\n",
       "     'lpath_deg': -5.850614877432473,\n",
       "     'vpath_deg': 2.9983816638859366},\n",
       "    'pose_id': 2279360,\n",
       "    'calibration_id': 2,\n",
       "    'label_origin': 'base',\n",
       "    'is_visible': True,\n",
       "    'centerline': {'top': {'x_px': 1691.8114000776584,\n",
       "      'y_px': 1321.7792070064738,\n",
       "      'lat_deg': 45.0103919,\n",
       "      'lon_deg': 37.3578452,\n",
       "      'alt_m': 49.949},\n",
       "     'bottom': {'x_px': 1221.213083583666,\n",
       "      'y_px': 1249.2462496698392,\n",
       "      'lat_deg': 44.993837,\n",
       "      'lon_deg': 37.3365842,\n",
       "      'alt_m': 39.013},\n",
       "     'edge': {'start_x': 1221.213083583666,\n",
       "      'start_y': 1249.2462496698392,\n",
       "      'stop_x': 1691.8114000776584,\n",
       "      'stop_y': 1321.7792070064738}}}]},\n",
       " 'aircraft_kinematics_list': [{'active_runway_relative_position': {'along_track_offset_m': -4322.501771900213,\n",
       "    'lateral_offset_m': -755.4520514268645,\n",
       "    'vertical_offset_m': 245.59475673059436,\n",
       "    'slant_dist_m': 4394.88863961524,\n",
       "    'lpath_deg': -5.850614877432473,\n",
       "    'vpath_deg': 2.9983816638859366},\n",
       "   'pose_id': 2279360,\n",
       "   'aircraft_pose_process': 'sim',\n",
       "   'attitude_rpy': {'roll_deg': -27.997695755337915,\n",
       "    'pitch_deg': -1.92697858266992,\n",
       "    'yaw_deg': 39.16773845016725},\n",
       "   'position_lla': {'lat_deg': 44.96050256836845,\n",
       "    'lon_deg': 37.30677203143144,\n",
       "    'alt_m': 286.11821579094976},\n",
       "   'velocity_ned': {'n_mps': None, 'e_mps': None, 'd_mps': None}}],\n",
       " 'camera_dict_list': [{'sensor_role': 'cam-nav',\n",
       "   'calibration_id': 2,\n",
       "   'calibration_process': 'sim',\n",
       "   'attitude_offset_rpy_deg': [0.0, 0.0, 0.0],\n",
       "   'position_offset_xyz_m': [0.0, 0.0, 0.0],\n",
       "   'focal_length_px': [7143.11865234375, 7143.11865234375],\n",
       "   'img_center_px': [2047.5, 1499.5],\n",
       "   'hfov_deg': 31.99620056152344,\n",
       "   'vfov_deg': 23.71871446023398,\n",
       "   'resolution_px': [4096, 3000],\n",
       "   'dist': [0.0, 0.0, 0.0, 0.0, 0.0]}],\n",
       " 'is_test': False,\n",
       " 'phase': 'approach',\n",
       " 'timestamp': datetime.datetime(2023, 3, 22, 10, 30, 22),\n",
       " 'campaign': 'sim_aip_q2_2023',\n",
       " 'environment': {'time_of_day': 'day',\n",
       "  'visibility_category': 'nominal',\n",
       "  'cloud_type': 'few'},\n",
       " 'recording_uq': 'sim_aip_q2_2023_disjoint_dev_58_18',\n",
       " 'runway_features': [{'is_active_runway': False,\n",
       "   'airport_source_desc': 'xplane_q2_20230504',\n",
       "   'runway_id': 3502,\n",
       "   'icao': 'URKA',\n",
       "   'designation': '22',\n",
       "   'runway_width_m': 42.06,\n",
       "   'heading_deg': 222.34554428962372,\n",
       "   'ltp_top_lla': [44.993837, 37.3365842, 39.013],\n",
       "   'ltp_bottom_lla': [45.0103919, 37.3578452, 49.949],\n",
       "   'runway_top_left_corner_lla': [44.993709569693145,\n",
       "    37.3367813540148,\n",
       "    39.081034671515226],\n",
       "   'runway_top_right_corner_lla': [44.9939644299654,\n",
       "    37.3363870451088,\n",
       "    38.99803467001766],\n",
       "   'runway_bottom_left_corner_lla': [45.010264433796905,\n",
       "    37.35804236298153,\n",
       "    49.98103467095643],\n",
       "   'runway_bottom_right_corner_lla': [45.01051936586152,\n",
       "    37.35764803614147,\n",
       "    49.90403467044234],\n",
       "   'runway_edge_light_top_left_lla': [None, None, None],\n",
       "   'runway_edge_light_bottom_left_lla': [None, None, None],\n",
       "   'runway_edge_light_top_right_lla': [None, None, None],\n",
       "   'runway_edge_light_bottom_right_lla': [None, None, None],\n",
       "   'extended_centerline_bottom_lla': [None, None, None],\n",
       "   'extended_centerline_top_lla': [None, None, None],\n",
       "   'decision_bar_left_lla': [None, None, None],\n",
       "   'decision_bar_right_lla': [None, None, None]},\n",
       "  {'is_active_runway': True,\n",
       "   'airport_source_desc': 'xplane_q2_20230504',\n",
       "   'runway_id': 3501,\n",
       "   'icao': 'URKA',\n",
       "   'designation': '04',\n",
       "   'runway_width_m': 42.06,\n",
       "   'heading_deg': 42.33050977279001,\n",
       "   'ltp_top_lla': [45.0103919, 37.3578452, 49.949],\n",
       "   'ltp_bottom_lla': [44.993837, 37.3365842, 39.013],\n",
       "   'runway_top_left_corner_lla': [45.01051936586152,\n",
       "    37.35764803614147,\n",
       "    49.90403467044234],\n",
       "   'runway_top_right_corner_lla': [45.010264433796905,\n",
       "    37.35804236298153,\n",
       "    49.98103467095643],\n",
       "   'runway_bottom_left_corner_lla': [44.9939644299654,\n",
       "    37.3363870451088,\n",
       "    38.99803467001766],\n",
       "   'runway_bottom_right_corner_lla': [44.993709569693145,\n",
       "    37.3367813540148,\n",
       "    39.081034671515226],\n",
       "   'runway_edge_light_top_left_lla': [None, None, None],\n",
       "   'runway_edge_light_bottom_left_lla': [None, None, None],\n",
       "   'runway_edge_light_top_right_lla': [None, None, None],\n",
       "   'runway_edge_light_bottom_right_lla': [None, None, None],\n",
       "   'extended_centerline_bottom_lla': [None, None, None],\n",
       "   'extended_centerline_top_lla': [None, None, None],\n",
       "   'decision_bar_left_lla': [None, None, None],\n",
       "   'decision_bar_right_lla': [None, None, None]}]}"
      ]
     },
     "execution_count": 8,
     "metadata": {},
     "output_type": "execute_result"
    }
   ],
   "source": [
    "# print sample\n",
    "random.choice(dataset_dev)"
   ]
  },
  {
   "cell_type": "markdown",
   "metadata": {},
   "source": [
    "# Split train / validation"
   ]
  },
  {
   "cell_type": "markdown",
   "metadata": {},
   "source": [
    "Create data frame with useful metadata:"
   ]
  },
  {
   "cell_type": "code",
   "execution_count": 9,
   "metadata": {},
   "outputs": [
    {
     "name": "stdout",
     "output_type": "stream",
     "text": [
      "Number of real airports: 48\n",
      "Number of synthetic airports: 776\n",
      "Number of airports with real and synthetic images: 47\n"
     ]
    }
   ],
   "source": [
    "airports_real = set([m['airport'] for m in dataset_dev if not m[\"is_synthetic\"]])\n",
    "print(\"Number of real airports:\", len(airports_real))\n",
    "airports_synthetic = set([m['airport'] for m in dataset_dev if m[\"is_synthetic\"]])\n",
    "print(\"Number of synthetic airports:\", len(airports_synthetic))\n",
    "airports = []\n",
    "for a in set(list(airports_real) + list(airports_synthetic)):\n",
    "    if a in airports_real and a in airports_synthetic:\n",
    "        airports.append(a)\n",
    "print(\"Number of airports with real and synthetic images:\", len(airports))"
   ]
  },
  {
   "cell_type": "code",
   "execution_count": 10,
   "metadata": {},
   "outputs": [
    {
     "name": "stdout",
     "output_type": "stream",
     "text": [
      "Number of samples for selected airports in `not night` conditions: 357023\n",
      "Number of real samples for selected airports in day conditions: 177190\n",
      "Number of synthetic samples for selected airports in day conditions: 179833\n"
     ]
    }
   ],
   "source": [
    "dataset_dev_reduced = [{k: m[k] for k in [\"airport\", \"image_path\", \"is_synthetic\", \"environment\"]} for m in dataset_dev if not m[\"is_night\"] and m[\"airport\"] in airports]\n",
    "print(\"Number of samples for selected airports in `not night` conditions:\", len(dataset_dev_reduced))\n",
    "print(\"Number of real samples for selected airports in day conditions:\", len([m for m in dataset_dev_reduced if not m[\"is_synthetic\"]]))\n",
    "print(\"Number of synthetic samples for selected airports in day conditions:\", len([m for m in dataset_dev_reduced if m[\"is_synthetic\"]]))"
   ]
  },
  {
   "cell_type": "code",
   "execution_count": 11,
   "metadata": {},
   "outputs": [
    {
     "name": "stdout",
     "output_type": "stream",
     "text": [
      "Counter({'day': 314253, 'dusk': 34085, 'dawn': 8685})\n",
      "Counter({'nominal': 179833, 'degraded': 2503})\n",
      "Counter({'clear': 44966, 'scattered': 44966, 'few': 44966, 'broken': 44935})\n"
     ]
    }
   ],
   "source": [
    "print(Counter([m[\"environment\"][\"time_of_day\"] for m in dataset_dev_reduced]))\n",
    "print(Counter([m[\"environment\"][\"visibility_category\"] for m in dataset_dev_reduced if \"visibility_category\" in m[\"environment\"]]))\n",
    "print(Counter([m[\"environment\"][\"cloud_type\"] for m in dataset_dev_reduced if \"cloud_type\" in m[\"environment\"]]))"
   ]
  },
  {
   "cell_type": "code",
   "execution_count": 12,
   "metadata": {},
   "outputs": [
    {
     "name": "stdout",
     "output_type": "stream",
     "text": [
      "Number of samples for selected airports in day conditions: 314253\n",
      "Number of real samples for selected airports in day conditions: 144805\n",
      "Number of synthetic samples for selected airports in day conditions: 169448\n"
     ]
    }
   ],
   "source": [
    "dataset_dev_reduced = [m for m in dataset_dev if not m[\"is_night\"] and m[\"airport\"] in airports and m[\"environment\"][\"time_of_day\"] == \"day\"]\n",
    "print(\"Number of samples for selected airports in day conditions:\", len(dataset_dev_reduced))\n",
    "print(\"Number of real samples for selected airports in day conditions:\", len([m for m in dataset_dev_reduced if not m[\"is_synthetic\"]]))\n",
    "print(\"Number of synthetic samples for selected airports in day conditions:\", len([m for m in dataset_dev_reduced if m[\"is_synthetic\"]]))"
   ]
  },
  {
   "cell_type": "code",
   "execution_count": 13,
   "metadata": {},
   "outputs": [
    {
     "name": "stdout",
     "output_type": "stream",
     "text": [
      "Number of airports in dev dataset: 47\n"
     ]
    }
   ],
   "source": [
    "airports = set([m[\"airport\"] for m in dataset_dev_reduced])\n",
    "print(f\"Number of airports in dev dataset: {len(airports)}\")"
   ]
  },
  {
   "cell_type": "markdown",
   "metadata": {},
   "source": [
    "Select airports so that we keep desired ratio of real data for training:"
   ]
  },
  {
   "cell_type": "code",
   "execution_count": 14,
   "metadata": {},
   "outputs": [
    {
     "name": "stdout",
     "output_type": "stream",
     "text": [
      "Train dataset ratio: 94.38%\n",
      "Number of airports in training dataset: 37\n"
     ]
    }
   ],
   "source": [
    "c = Counter([metadata[\"airport\"] for metadata in dataset_dev_reduced])\n",
    "x, y = list(zip(*c.most_common()))\n",
    "cy = np.cumsum(y)\n",
    "xmax = np.argmax(cy > TRAIN_RATIO*np.sum(y))\n",
    "train_airports = x[:xmax]\n",
    "train_ratio = 1 - np.sum(y[xmax:]) / np.sum(y)\n",
    "print(f\"Train dataset ratio: {100*train_ratio:.2f}%\")\n",
    "print(f\"Number of airports in training dataset: {len(train_airports)}\")"
   ]
  },
  {
   "cell_type": "markdown",
   "metadata": {},
   "source": [
    "Sum up airports:"
   ]
  },
  {
   "cell_type": "code",
   "execution_count": 15,
   "metadata": {},
   "outputs": [
    {
     "name": "stdout",
     "output_type": "stream",
     "text": [
      "Number of airports in training dataset: 37 (78.72%)\n",
      "Number of airports in validation dataset: 10 (21.28%)\n"
     ]
    }
   ],
   "source": [
    "train_airports = set(train_airports)\n",
    "valid_airports = set([m['airport'] for m in dataset_dev_reduced if m['airport'] not in train_airports])\n",
    "\n",
    "print(f\"Number of airports in training dataset: {len(train_airports)} ({100 * len(train_airports) / len(airports):.2f}%)\")\n",
    "print(f\"Number of airports in validation dataset: {len(valid_airports)} ({100 * len(valid_airports) / len(airports):.2f}%)\")"
   ]
  },
  {
   "cell_type": "markdown",
   "metadata": {},
   "source": [
    "Sum up the number of samples:"
   ]
  },
  {
   "cell_type": "code",
   "execution_count": 16,
   "metadata": {},
   "outputs": [
    {
     "name": "stdout",
     "output_type": "stream",
     "text": [
      "Number of samples in training dataset: 319476 (21.58%)\n",
      "Number of samples in validation dataset: 37547 (2.54%)\n"
     ]
    }
   ],
   "source": [
    "dataset_train = list(filter(lambda m: m[\"airport\"] in train_airports, dataset_dev))\n",
    "dataset_valid = list(filter(lambda m: m[\"airport\"] in valid_airports, dataset_dev))\n",
    "\n",
    "print(f\"Number of samples in training dataset: {len(dataset_train)} ({100.*len(dataset_train)/len(dataset_dev):.2f}%)\")\n",
    "print(f\"Number of samples in validation dataset: {len(dataset_valid)} ({100.*len(dataset_valid)/len(dataset_dev):.2f}%)\")"
   ]
  },
  {
   "cell_type": "markdown",
   "metadata": {},
   "source": [
    "Save datasets in respective pickle files:"
   ]
  },
  {
   "cell_type": "code",
   "execution_count": 17,
   "metadata": {},
   "outputs": [
    {
     "name": "stdout",
     "output_type": "stream",
     "text": [
      "Training dataset saved at: /mnt/data1/user_cache/geoffrey.g.delhomme/data/2023_12/synthetic2real_day/pickles/dataset_train.p\n",
      "Validation dataset saved at: /mnt/data1/user_cache/geoffrey.g.delhomme/data/2023_12/synthetic2real_day/pickles/dataset_valid.p\n"
     ]
    }
   ],
   "source": [
    "save_pickle_dirpath = Path(DATA_ROOT_DIRPATH) / DATASET_SOURCE / DATASET_NAME / \"pickles\"\n",
    "\n",
    "os.makedirs(save_pickle_dirpath.as_posix(), exist_ok=True)\n",
    "\n",
    "dataset_train_pickle_filepath = save_pickle_dirpath / \"dataset_train.p\"\n",
    "with open(dataset_train_pickle_filepath.as_posix(), 'wb') as f:\n",
    "    pickle.dump(dataset_train, f)\n",
    "print(f\"Training dataset saved at: {dataset_train_pickle_filepath.as_posix()}\")\n",
    "\n",
    "dataset_valid_pickle_filepath = save_pickle_dirpath / \"dataset_valid.p\"\n",
    "with open(dataset_valid_pickle_filepath.as_posix(), 'wb') as f:\n",
    "    pickle.dump(dataset_valid, f)\n",
    "print(f\"Validation dataset saved at: {dataset_valid_pickle_filepath.as_posix()}\")"
   ]
  },
  {
   "cell_type": "markdown",
   "metadata": {},
   "source": [
    "# Generate"
   ]
  },
  {
   "cell_type": "markdown",
   "metadata": {},
   "source": [
    "Define main constants:"
   ]
  },
  {
   "cell_type": "code",
   "execution_count": 25,
   "metadata": {},
   "outputs": [],
   "source": [
    "# define callibration priority\n",
    "CALIBRATION_PRIORITY = (\n",
    "    \"sim\",\n",
    "    \"interframe_runway\",\n",
    "    \"central\",\n",
    "    \"recording_runway\",\n",
    "    \"recorded\",\n",
    ")\n",
    "\n",
    "# keypoints fields and order\n",
    "KEYPOINTS = [\n",
    "    (\"runway\", \"bottom_left\"),\n",
    "    (\"runway\", \"top_left\"),\n",
    "    (\"runway\", \"top_right\"),\n",
    "    (\"runway\", \"bottom_right\"),\n",
    "]"
   ]
  },
  {
   "cell_type": "markdown",
   "metadata": {},
   "source": [
    "Define where to generate the dataset files:"
   ]
  },
  {
   "cell_type": "code",
   "execution_count": 4,
   "metadata": {},
   "outputs": [
    {
     "name": "stdout",
     "output_type": "stream",
     "text": [
      "Destination directory: /mnt/data1/user_cache/geoffrey.g.delhomme/data/2023_12/synthetic2real_day/1024x750\n"
     ]
    }
   ],
   "source": [
    "dest_dirpath = Path(DATA_ROOT_DIRPATH) / DATASET_SOURCE / DATASET_NAME / f\"{IMAGE_SIZE[0]}x{IMAGE_SIZE[1]}\"\n",
    "# if dest_dirpath.exists():\n",
    "#     shutil.rmtree(dest_dirpath)\n",
    "dest_dirpath.mkdir(exist_ok=True, parents=True)\n",
    "print(f\"Destination directory: {dest_dirpath.as_posix()}\")"
   ]
  },
  {
   "cell_type": "markdown",
   "metadata": {},
   "source": [
    "Main functions to generate the dataset:"
   ]
  },
  {
   "cell_type": "code",
   "execution_count": 27,
   "metadata": {},
   "outputs": [],
   "source": [
    "def process(\n",
    "    split, sample\n",
    "):\n",
    "    # TODO:\n",
    "    # - downscale image to 750x1024 (.png)\n",
    "    # - list all runway corners (for valid runway (+/- 5°))\n",
    "    # - generate bbox .txt (cls xmin ymin xmax ymax)\n",
    "\n",
    "    # expand\n",
    "    index, metadata = sample\n",
    "\n",
    "    # get image dimensions\n",
    "    image_width, image_height = metadata[\"camera_dict_list\"][0][\"resolution_px\"]\n",
    "\n",
    "    # process image\n",
    "    image_filepath = Path(metadata[\"image_path\"])\n",
    "\n",
    "    # Dicard runways not aligned with the active one +- range\n",
    "    compatible_runways: List[Dict[str, Any]] = []\n",
    "    active_rwy_heading = (\n",
    "        int(\n",
    "            metadata[\"active_runway\"]\n",
    "            if metadata[\"active_runway\"][-1].isnumeric()\n",
    "            else metadata[\"active_runway\"][:-1]\n",
    "        )\n",
    "        * 10\n",
    "    )\n",
    "    for metadata_runway in metadata[\"labels\"][\"runways\"]:\n",
    "        rwy_heading = (\n",
    "            int(\n",
    "                metadata_runway[\"id\"]\n",
    "                if metadata_runway[\"id\"][-1].isnumeric()\n",
    "                else metadata_runway[\"id\"][:-1]\n",
    "            )\n",
    "            * 10\n",
    "        )\n",
    "        delta_rwy_heading = abs(((rwy_heading - active_rwy_heading) + 180) % 360 - 180)\n",
    "        if delta_rwy_heading <= RUNWAY_HEADING_RANGE_DEG:\n",
    "            compatible_runways.append(metadata_runway)\n",
    "\n",
    "    # Grab calibration ids and associated processes\n",
    "    calibrations: Dict[str, int] = OrderedDict(list(zip(CALIBRATION_PRIORITY, [None]*len(CALIBRATION_PRIORITY))))\n",
    "    for camera_dict in metadata[\"camera_dict_list\"]:\n",
    "        if calibrations[camera_dict[\"calibration_process\"]] is None:\n",
    "            calibrations[camera_dict[\"calibration_process\"]] = camera_dict[\"calibration_id\"]\n",
    "\n",
    "    # Remove calibration duplicates\n",
    "    calibrated_runways: Dict[int, Dict[str, Any]] = {}\n",
    "    for calibration_id in calibrations.values():\n",
    "        if calibration_id is None:\n",
    "            continue\n",
    "        for metadata_runway in compatible_runways:\n",
    "            if str(metadata_runway[\"id\"]) in calibrated_runways:\n",
    "                continue\n",
    "            if metadata_runway[\"calibration_id\"] != calibration_id:\n",
    "                continue\n",
    "            calibrated_runways[str(metadata_runway[\"id\"])] = metadata_runway\n",
    "\n",
    "    # compute bboxes and draw mask\n",
    "    contours, bboxes = [], []\n",
    "    for metadata_runway in calibrated_runways.values():\n",
    "        try:\n",
    "            contour = metadata_runway[\"runway\"][\"region\"][\"points\"]\n",
    "            # ! some values are nan !\n",
    "            contour = np.array(contour, dtype=np.float32)\n",
    "            if np.any(np.isnan(contour)):\n",
    "                raise ValueError(\"NaNs\")\n",
    "            if len(contour.shape) != 2 or contour.shape[1] != 2:\n",
    "                raise ValueError(\"Wrong shape\")\n",
    "            contour[:,0] = contour[:,0] / image_width * IMAGE_SIZE[0]\n",
    "            contour[:,1] = contour[:,1] / image_height * IMAGE_SIZE[1]\n",
    "            x_min = float(contour[:, 0].min())\n",
    "            x_max = float(contour[:, 0].max())\n",
    "            y_min = float(contour[:, 1].min())\n",
    "            y_max = float(contour[:, 1].max())\n",
    "            w = abs(x_max - x_min)\n",
    "            h = abs(y_max - y_min)\n",
    "            if w/h > MAX_ASPECT_RATIO:\n",
    "                raise ValueError(\"Wrong AR!\")\n",
    "            if w * h < MIN_AREA:\n",
    "                raise ValueError(\"Bbox area negative or too small!\")\n",
    "        except ValueError:\n",
    "            continue\n",
    "        except KeyError:\n",
    "            continue\n",
    "        # gather contours\n",
    "        contours.append(contour)\n",
    "        # gather bboxes\n",
    "        bboxes.append([\n",
    "            1, *[int(v) for v in [x_min, y_min, x_max, y_max]]\n",
    "        ])\n",
    "\n",
    "    # check if there is any annotations\n",
    "    if len(bboxes) == 0 or len(contours) == 0:\n",
    "        return f\"{image_filepath.as_posix()}: no annotations!\"\n",
    "\n",
    "    # save image\n",
    "    new_image_filepath = dest_dirpath / \"raw\" / (f\"{split}A\" if metadata[\"is_synthetic\"] else f\"{split}B\") / f\"{index:010d}.png\"\n",
    "    os.makedirs(new_image_filepath.parent.as_posix(), exist_ok=True)\n",
    "    if image_width == IMAGE_SIZE[0] and image_height == IMAGE_SIZE[1]:\n",
    "        # create symlink\n",
    "        try:\n",
    "            os.symlink(image_filepath, new_image_filepath)\n",
    "        except OSError as e:\n",
    "            os.remove(new_image_filepath.as_posix())\n",
    "            os.symlink(image_filepath, new_image_filepath)\n",
    "    else:\n",
    "        # resize image\n",
    "        im = cv2.imread(image_filepath.as_posix())\n",
    "        im = cv2.resize(im, IMAGE_SIZE)\n",
    "        cv2.imwrite(new_image_filepath.as_posix(), im)\n",
    "\n",
    "    # save bbox\n",
    "    bbox_image_filepath = dest_dirpath / \"bbox\" / (f\"{split}A\" if metadata[\"is_synthetic\"] else f\"{split}B\") / \"img\" / f\"{index:010d}.png\"\n",
    "    bbox_image_filepath.parent.mkdir(exist_ok=True, parents=True)\n",
    "    try:\n",
    "        os.symlink(new_image_filepath, bbox_image_filepath)\n",
    "    except OSError as e:\n",
    "        os.remove(bbox_image_filepath.as_posix())\n",
    "        os.symlink(new_image_filepath, bbox_image_filepath)\n",
    "    bbox_filepath = dest_dirpath / \"bbox\" / (f\"{split}A\" if metadata[\"is_synthetic\"] else f\"{split}B\") / \"bbox\" / f\"{index:010d}.txt\"\n",
    "    os.makedirs(bbox_filepath.parent.as_posix(), exist_ok=True)\n",
    "    with open(bbox_filepath.as_posix(), \"w\") as f:\n",
    "        f.write('\\n'.join([' '.join([str(l) for l in line]) for line in bboxes]))\n",
    "    # draw mask\n",
    "    mask_image_filepath = dest_dirpath / \"mask\" / (f\"{split}A\" if metadata[\"is_synthetic\"] else f\"{split}B\") / \"img\" / f\"{index:010d}.png\"\n",
    "    mask_image_filepath.parent.mkdir(exist_ok=True, parents=True)\n",
    "    try:\n",
    "        os.symlink(new_image_filepath, mask_image_filepath)\n",
    "    except OSError as e:\n",
    "        os.remove(mask_image_filepath.as_posix())\n",
    "        os.symlink(new_image_filepath, mask_image_filepath)\n",
    "    mask_filepath = dest_dirpath / \"mask\" / (f\"{split}A\" if metadata[\"is_synthetic\"] else f\"{split}B\") / \"mask\" / f\"{index:010d}.png\"\n",
    "    os.makedirs(mask_filepath.parent.as_posix(), exist_ok=True)\n",
    "    mask = np.zeros(IMAGE_SIZE[::-1], dtype=np.uint8)\n",
    "    mask = np.ascontiguousarray(mask)\n",
    "    for contour in contours:\n",
    "        mask = cv2.fillPoly(mask, pts=[contour.astype(np.int32)], color=1)\n",
    "    cv2.imwrite(mask_filepath.as_posix(), mask)\n",
    "\n",
    "    return (bbox_image_filepath, bbox_filepath), (mask_image_filepath, mask_filepath)\n",
    "\n",
    "# process(\"train\", (0, dataset_dev_reduced[0]))"
   ]
  },
  {
   "cell_type": "code",
   "execution_count": 28,
   "metadata": {},
   "outputs": [],
   "source": [
    "def generate(split, dataset):\n",
    "    bbox_dirpath = dest_dirpath / \"bbox\"\n",
    "    bbox_dirpath.mkdir(exist_ok=True, parents=True)\n",
    "    mask_dirpath = dest_dirpath / \"mask\"\n",
    "    mask_dirpath.mkdir(exist_ok=True, parents=True)\n",
    "    bbox, mask = {}, {}\n",
    "    for k in [\"trainA\", \"trainB\", \"testA\", \"testB\"]:\n",
    "        bbox_filepath = bbox_dirpath / k / \"paths.txt\"\n",
    "        bbox_filepath.parent.mkdir(exist_ok=True, parents=True)\n",
    "        bbox[k] = open(bbox_filepath.as_posix(), 'w')\n",
    "        mask_filepath = mask_dirpath / k / \"paths.txt\"\n",
    "        mask_filepath.parent.mkdir(exist_ok=True, parents=True)\n",
    "        mask[k] = open(mask_filepath.as_posix(), 'w')\n",
    "    with Pool(max(1, int(os.cpu_count() * 0.9))) as p:\n",
    "        for sample in tqdm(\n",
    "            p.imap_unordered(partial(process, split), enumerate(dataset)), total=len(dataset)\n",
    "        ):\n",
    "    # if True:\n",
    "    #     for sample in tqdm(enumerate(dataset), total=len(dataset)):\n",
    "    #         sample = process(split, sample)\n",
    "            if sample is None or isinstance(sample, str):\n",
    "                continue\n",
    "            (bbox_image_filepath, bbox_filepath), (mask_image_filepath, mask_filepath) = sample\n",
    "            for k, f in bbox.items():\n",
    "                if k in bbox_filepath.as_posix().split(os.sep):\n",
    "                    f.write(f\"{bbox_image_filepath.as_posix()} {bbox_filepath.as_posix()}\")\n",
    "            for k, f in mask.items():\n",
    "                if k in mask_filepath.as_posix().split(os.sep):\n",
    "                    f.write(f\"{mask_image_filepath.as_posix()} {mask_filepath.as_posix()}\")\n",
    "    for f in bbox.values():\n",
    "        f.close()\n",
    "    for f in mask.values():\n",
    "        f.close()"
   ]
  },
  {
   "cell_type": "code",
   "execution_count": 29,
   "metadata": {},
   "outputs": [
    {
     "name": "stderr",
     "output_type": "stream",
     "text": [
      "100%|██████████| 319476/319476 [31:22<00:00, 169.73it/s] \n"
     ]
    }
   ],
   "source": [
    "generate(\"train\", dataset_train)"
   ]
  },
  {
   "cell_type": "code",
   "execution_count": 30,
   "metadata": {},
   "outputs": [
    {
     "name": "stderr",
     "output_type": "stream",
     "text": [
      "100%|██████████| 37547/37547 [03:23<00:00, 184.82it/s]\n"
     ]
    }
   ],
   "source": [
    "generate(\"test\", dataset_valid)"
   ]
  },
  {
   "cell_type": "code",
   "execution_count": 8,
   "metadata": {},
   "outputs": [
    {
     "name": "stdout",
     "output_type": "stream",
     "text": [
      "Generate paths for /mnt/data1/user_cache/geoffrey.g.delhomme/data/2023_12/synthetic2real_day/1024x750/bbox/trainA/paths.txt\n"
     ]
    },
    {
     "name": "stderr",
     "output_type": "stream",
     "text": [
      "100%|██████████| 96235/96235 [00:01<00:00, 58113.36it/s]\n"
     ]
    },
    {
     "name": "stdout",
     "output_type": "stream",
     "text": [
      "Generate paths for /mnt/data1/user_cache/geoffrey.g.delhomme/data/2023_12/synthetic2real_day/1024x750/bbox/trainB/paths.txt\n"
     ]
    },
    {
     "name": "stderr",
     "output_type": "stream",
     "text": [
      "100%|██████████| 150988/150988 [00:02<00:00, 58213.38it/s]\n"
     ]
    },
    {
     "name": "stdout",
     "output_type": "stream",
     "text": [
      "Generate paths for /mnt/data1/user_cache/geoffrey.g.delhomme/data/2023_12/synthetic2real_day/1024x750/bbox/testA/paths.txt\n"
     ]
    },
    {
     "name": "stderr",
     "output_type": "stream",
     "text": [
      "100%|██████████| 5240/5240 [00:00<00:00, 58382.66it/s]\n"
     ]
    },
    {
     "name": "stdout",
     "output_type": "stream",
     "text": [
      "Generate paths for /mnt/data1/user_cache/geoffrey.g.delhomme/data/2023_12/synthetic2real_day/1024x750/bbox/testB/paths.txt\n"
     ]
    },
    {
     "name": "stderr",
     "output_type": "stream",
     "text": [
      "100%|██████████| 21715/21715 [00:00<00:00, 58290.61it/s]\n"
     ]
    },
    {
     "name": "stdout",
     "output_type": "stream",
     "text": [
      "Generate paths for /mnt/data1/user_cache/geoffrey.g.delhomme/data/2023_12/synthetic2real_day/1024x750/mask/trainB/paths.txt\n"
     ]
    },
    {
     "name": "stderr",
     "output_type": "stream",
     "text": [
      "100%|██████████| 150988/150988 [00:02<00:00, 57853.22it/s]\n"
     ]
    },
    {
     "name": "stdout",
     "output_type": "stream",
     "text": [
      "Generate paths for /mnt/data1/user_cache/geoffrey.g.delhomme/data/2023_12/synthetic2real_day/1024x750/mask/trainA/paths.txt\n"
     ]
    },
    {
     "name": "stderr",
     "output_type": "stream",
     "text": [
      "100%|██████████| 96235/96235 [00:01<00:00, 58650.36it/s]\n"
     ]
    },
    {
     "name": "stdout",
     "output_type": "stream",
     "text": [
      "Generate paths for /mnt/data1/user_cache/geoffrey.g.delhomme/data/2023_12/synthetic2real_day/1024x750/mask/testB/paths.txt\n"
     ]
    },
    {
     "name": "stderr",
     "output_type": "stream",
     "text": [
      "100%|██████████| 21715/21715 [00:00<00:00, 56735.99it/s]\n"
     ]
    },
    {
     "name": "stdout",
     "output_type": "stream",
     "text": [
      "Generate paths for /mnt/data1/user_cache/geoffrey.g.delhomme/data/2023_12/synthetic2real_day/1024x750/mask/testA/paths.txt\n"
     ]
    },
    {
     "name": "stderr",
     "output_type": "stream",
     "text": [
      "100%|██████████| 5240/5240 [00:00<00:00, 58696.22it/s]\n"
     ]
    }
   ],
   "source": [
    "def generate_paths(dirpath):\n",
    "    if not isinstance(dirpath, Path):\n",
    "        dirpath = Path(dirpath)\n",
    "    paths_filepath = dirpath / \"paths.txt\"\n",
    "    subdirs = os.listdir(dirpath.as_posix())\n",
    "    target_dirpath = dirpath / (\"bbox\" if \"bbox\" in subdirs else \"mask\")\n",
    "    img_dirpath = dirpath / \"img\"\n",
    "    print(f\"Generate paths for {paths_filepath.as_posix()}\")\n",
    "    with open(paths_filepath, 'w') as f:\n",
    "        for img_filepath in tqdm(list(img_dirpath.iterdir())):\n",
    "            img_filepath = img_filepath.relative_to(dirpath.parent)\n",
    "            target_filepath = (target_dirpath / (img_filepath.stem + ('.txt' if 'bbox' in subdirs else '.png'))).relative_to(dirpath.parent)\n",
    "            f.write(f\"{img_filepath.as_posix()} {target_filepath.as_posix()}\\n\")\n",
    "\n",
    "for t in [\"bbox\", \"mask\"]:\n",
    "    dirpath = dest_dirpath / t\n",
    "    for d in dirpath.iterdir():\n",
    "        generate_paths(d)"
   ]
  },
  {
   "cell_type": "markdown",
   "metadata": {},
   "source": [
    "-----------"
   ]
  }
 ],
 "metadata": {
  "kernelspec": {
   "display_name": "Python 3",
   "language": "python",
   "name": "python3"
  },
  "language_info": {
   "codemirror_mode": {
    "name": "ipython",
    "version": 3
   },
   "file_extension": ".py",
   "mimetype": "text/x-python",
   "name": "python",
   "nbconvert_exporter": "python",
   "pygments_lexer": "ipython3",
   "version": "3.10.13"
  }
 },
 "nbformat": 4,
 "nbformat_minor": 2
}
